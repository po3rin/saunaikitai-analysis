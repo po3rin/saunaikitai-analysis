{
 "metadata": {
  "language_info": {
   "codemirror_mode": {
    "name": "ipython",
    "version": 3
   },
   "file_extension": ".py",
   "mimetype": "text/x-python",
   "name": "python",
   "nbconvert_exporter": "python",
   "pygments_lexer": "ipython3",
   "version": "3.8.5-final"
  },
  "orig_nbformat": 2,
  "kernelspec": {
   "name": "python3",
   "display_name": "Python 3",
   "language": "python"
  }
 },
 "nbformat": 4,
 "nbformat_minor": 2,
 "cells": [
  {
   "cell_type": "code",
   "execution_count": 1,
   "metadata": {},
   "outputs": [],
   "source": [
    "# 乱数のシードを設定\n",
    "import random\n",
    "import numpy as np\n",
    "import pandas as pd\n",
    "\n",
    "np.random.seed(1234)\n",
    "random.seed(1234)"
   ]
  },
  {
   "cell_type": "code",
   "execution_count": 2,
   "metadata": {},
   "outputs": [],
   "source": [
    "# scikit-learnから決定木の回帰をimport\n",
    "# https://scikit-learn.org/stable/modules/generated/sklearn.ensemble.RandomForestRegressor.html?highlight=randomforest\n",
    "from sklearn.ensemble import RandomForestRegressor\n",
    "from sklearn.model_selection import train_test_split"
   ]
  },
  {
   "cell_type": "code",
   "execution_count": 3,
   "metadata": {},
   "outputs": [
    {
     "output_type": "stream",
     "name": "stdout",
     "text": [
      "深さ2の性能： 0.20547257576786027\n",
      "深さ3の性能： 0.23973444729535254\n",
      "深さ4の性能： 0.23499082095134105\n"
     ]
    }
   ],
   "source": [
    "df = pd.read_csv('src/sauna.csv')\n",
    "\n",
    "# サウナなし、水風呂なしの処理\n",
    "df = df[df[\"sauna_temp\"] != \"-\"]\n",
    "df = df[df[\"mizuburo_temp\"] != \"-\"]\n",
    "\n",
    "df[\"sauna_temp\"] = df[\"sauna_temp\"].astype('float64')\n",
    "df[\"mizuburo_temp\"] = df[\"mizuburo_temp\"].astype('float64')\n",
    "\n",
    "df['temp_diff'] = df[\"sauna_temp\"] - df[\"mizuburo_temp\"]\n",
    "\n",
    "# 説明変数\n",
    "X = df[[\"ikitai\", \"temp_diff\"]]\n",
    "\n",
    "# 被説明変数（目的変数）\n",
    "Y = df[\"body_care\"]\n",
    "\n",
    "# データを訓練と検証に分割\n",
    "X_train, X_val, Y_train, Y_val = train_test_split(\n",
    "    X, Y, train_size=0.6, random_state=0)\n",
    "\n",
    "# 学習と性能確認\n",
    "reg = RandomForestRegressor(max_depth=2, random_state=0)\n",
    "reg = reg.fit(X_train, Y_train)\n",
    "print(\"深さ2の性能：\", reg.score(X_val, Y_val))  # 決定係数R2を表示\n",
    "\n",
    "# 学習と性能確認\n",
    "reg = RandomForestRegressor(max_depth=3, random_state=0)\n",
    "reg = reg.fit(X_train, Y_train)\n",
    "print(\"深さ3の性能：\", reg.score(X_val, Y_val))  # 決定係数R2を表示\n",
    "\n",
    "# 学習と性能確認\n",
    "reg = RandomForestRegressor(max_depth=4, random_state=0)\n",
    "reg = reg.fit(X_train, Y_train)\n",
    "print(\"深さ4の性能：\", reg.score(X_val, Y_val))  # 決定係数R2を表示"
   ]
  },
  {
   "cell_type": "code",
   "execution_count": null,
   "metadata": {},
   "outputs": [],
   "source": []
  }
 ]
}