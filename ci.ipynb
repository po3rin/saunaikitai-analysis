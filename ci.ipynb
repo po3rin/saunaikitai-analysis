{
 "metadata": {
  "language_info": {
   "codemirror_mode": {
    "name": "ipython",
    "version": 3
   },
   "file_extension": ".py",
   "mimetype": "text/x-python",
   "name": "python",
   "nbconvert_exporter": "python",
   "pygments_lexer": "ipython3",
   "version": "3.8.5-final"
  },
  "orig_nbformat": 2,
  "kernelspec": {
   "name": "python3",
   "display_name": "Python 3",
   "language": "python"
  }
 },
 "nbformat": 4,
 "nbformat_minor": 2,
 "cells": [
  {
   "cell_type": "code",
   "execution_count": 7,
   "metadata": {},
   "outputs": [],
   "source": [
    "# 乱数のシードを設定\n",
    "import random\n",
    "import numpy as np\n",
    "import pandas as pd\n",
    "\n",
    "np.random.seed(1234)\n",
    "random.seed(1234)"
   ]
  },
  {
   "cell_type": "code",
   "execution_count": 11,
   "metadata": {},
   "outputs": [
    {
     "output_type": "stream",
     "name": "stdout",
     "text": [
      "    sauna_temp mizuburo_temp  ikitai\n0          116            18    4605\n1          110            14    3907\n2           90           7.1    3370\n3          110            17    3354\n4           90            16    3299\n..         ...           ...     ...\n804        102            21      51\n805         78            25      51\n806        110            22      51\n807         68            18      51\n808         90            18      51\n\n[789 rows x 3 columns]\n"
     ]
    }
   ],
   "source": [
    "df = pd.read_csv('src/sauna.csv')\n",
    "df = df[[\"sauna_temp\", \"mizuburo_temp\", \"ikitai\"]]\n",
    "\n",
    "# サウナなし、水風呂なしの処理\n",
    "df = df[df[\"sauna_temp\"] != \"-\"]\n",
    "df = df[df[\"mizuburo_temp\"] != \"-\"]\n",
    "\n",
    "print(df)"
   ]
  },
  {
   "cell_type": "code",
   "execution_count": null,
   "metadata": {},
   "outputs": [],
   "source": []
  }
 ]
}