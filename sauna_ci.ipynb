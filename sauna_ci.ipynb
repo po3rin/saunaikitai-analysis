{
 "metadata": {
  "language_info": {
   "codemirror_mode": {
    "name": "ipython",
    "version": 3
   },
   "file_extension": ".py",
   "mimetype": "text/x-python",
   "name": "python",
   "nbconvert_exporter": "python",
   "pygments_lexer": "ipython3",
   "version": "3.8.5-final"
  },
  "orig_nbformat": 2,
  "kernelspec": {
   "name": "python3",
   "display_name": "Python 3",
   "language": "python"
  }
 },
 "nbformat": 4,
 "nbformat_minor": 2,
 "cells": [
  {
   "cell_type": "code",
   "execution_count": 5,
   "metadata": {},
   "outputs": [],
   "source": [
    "# 乱数のシードを設定\n",
    "import random\n",
    "import numpy as np\n",
    "import pandas as pd\n",
    "\n",
    "np.random.seed(1234)\n",
    "random.seed(1234)"
   ]
  },
  {
   "cell_type": "code",
   "execution_count": 6,
   "metadata": {},
   "outputs": [
    {
     "output_type": "stream",
     "name": "stdout",
     "text": [
      "               name                            address sauna_temp  \\\n0            サウナしきじ               静岡県 静岡市駿河区 敷地２丁目２５-１        116   \n1     サウナ&カプセルホテル北欧                  東京都 台東区 上野７丁目２−１６        110   \n2           かるまる 池袋  東京都 豊島区 池袋２丁目７−７ 6Fフロント入口（3階～10階）         90   \n3     天空のアジト マルシンスパ        東京都 渋谷区 笹塚1丁目58-6 マルシンビル10F        110   \n4    サウナと天然温泉 湯らっくす                  熊本県 熊本市 中央区本荘町７２２         90   \n..              ...                                ...        ...   \n804         ゆートピア21                 東京都 葛飾区 亀有３丁目３０-１２        102   \n805            丸正浴場                  東京都 世田谷区 喜多見４丁目３６         78   \n806             幸の湯                東京都 大田区 西糀谷１丁目２５-１５        110   \n807             中島館                神奈川県 横浜市南区 中島町４丁目７５         68   \n808     シーサイド・スパ八景島                  神奈川県 横浜市 金沢区柴町361         90   \n\n    mizuburo_temp  ikitai  loyly  auto_loyly  self_loyly  out_air_bath  \\\n0              18    4605      0           0           0             0   \n1              14    3907      1           0           1             1   \n2             7.1    3370      1           1           1             1   \n3              17    3354      1           0           1             1   \n4              16    3299      1           0           1             1   \n..            ...     ...    ...         ...         ...           ...   \n804            21      51      0           0           0             0   \n805            25      51      0           0           0             0   \n806            22      51      0           0           0             1   \n807            18      51      0           0           0             0   \n808            18      51      0           0           0             1   \n\n     break_space  ...  airdryer  unlimited_use_face_towel  \\\n0              1  ...         1                         1   \n1              1  ...         1                         0   \n2              1  ...         1                         1   \n3              1  ...         1                         0   \n4              0  ...         1                         1   \n..           ...  ...       ...                       ...   \n804            0  ...         1                         0   \n805            0  ...         1                         0   \n806            1  ...         1                         0   \n807            1  ...         1                         0   \n808            1  ...         1                         0   \n\n     unlimited_use_bath_towel  unlimited_use_sauna_pants  \\\n0                           0                          0   \n1                           0                          0   \n2                           1                          0   \n3                           0                          0   \n4                           0                          0   \n..                        ...                        ...   \n804                         0                          0   \n805                         0                          0   \n806                         0                          0   \n807                         0                          0   \n808                         0                          0   \n\n     unlimited_use_sauna_mat  unlimited_use_kickboard  toner  emulsion  \\\n0                          1                        0      1         1   \n1                          0                        1      0         0   \n2                          1                        0      1         1   \n3                          1                        1      1         1   \n4                          1                        0      1         1   \n..                       ...                      ...    ...       ...   \n804                        0                        0      0         0   \n805                        0                        0      0         0   \n806                        0                        0      0         0   \n807                        0                        0      0         0   \n808                        0                        1      1         1   \n\n     makeup_remover  cotton_swab  \n0                 1            1  \n1                 0            1  \n2                 0            1  \n3                 0            1  \n4                 0            1  \n..              ...          ...  \n804               0            0  \n805               0            0  \n806               0            0  \n807               0            1  \n808               1            1  \n\n[789 rows x 44 columns]\n"
     ]
    }
   ],
   "source": [
    "df = pd.read_csv('src/sauna.csv')\n",
    "\n",
    "# サウナなし、水風呂なしの処理\n",
    "df = df[df[\"sauna_temp\"] != \"-\"]\n",
    "df = df[df[\"mizuburo_temp\"] != \"-\"]\n",
    "\n",
    "# 説明変数\n",
    "X = df[[\"sauna_temp\", \"mizuburo_temp\", \"loyly\", \"auto_loyly\", \"out_air_bath\", \"open_24_hours\"]]\n",
    "\n",
    "# 説明変数\n",
    "print(df)"
   ]
  },
  {
   "cell_type": "code",
   "execution_count": null,
   "metadata": {},
   "outputs": [],
   "source": []
  }
 ]
}